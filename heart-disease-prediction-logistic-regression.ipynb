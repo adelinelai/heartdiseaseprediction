{
 "cells": [
  {
   "cell_type": "code",
   "execution_count": 1,
   "id": "746c3f30",
   "metadata": {
    "execution": {
     "iopub.execute_input": "2023-08-15T00:50:06.148153Z",
     "iopub.status.busy": "2023-08-15T00:50:06.147802Z",
     "iopub.status.idle": "2023-08-15T00:50:06.155985Z",
     "shell.execute_reply": "2023-08-15T00:50:06.155114Z"
    },
    "papermill": {
     "duration": 0.015101,
     "end_time": "2023-08-15T00:50:06.157736",
     "exception": false,
     "start_time": "2023-08-15T00:50:06.142635",
     "status": "completed"
    },
    "tags": []
   },
   "outputs": [],
   "source": [
    "import numpy as np"
   ]
  },
  {
   "cell_type": "code",
   "execution_count": 2,
   "id": "211b9f52",
   "metadata": {
    "execution": {
     "iopub.execute_input": "2023-08-15T00:50:06.165323Z",
     "iopub.status.busy": "2023-08-15T00:50:06.165033Z",
     "iopub.status.idle": "2023-08-15T00:50:06.185734Z",
     "shell.execute_reply": "2023-08-15T00:50:06.184850Z"
    },
    "papermill": {
     "duration": 0.026679,
     "end_time": "2023-08-15T00:50:06.187753",
     "exception": false,
     "start_time": "2023-08-15T00:50:06.161074",
     "status": "completed"
    },
    "tags": []
   },
   "outputs": [],
   "source": [
    "X = np.load(\"/kaggle/input/heart-disease-prediction-simplified/X.npy\")\n",
    "Y = np.load(\"/kaggle/input/heart-disease-prediction-simplified/y.npy\")"
   ]
  },
  {
   "cell_type": "code",
   "execution_count": 3,
   "id": "39da80f2",
   "metadata": {
    "execution": {
     "iopub.execute_input": "2023-08-15T00:50:06.195917Z",
     "iopub.status.busy": "2023-08-15T00:50:06.194930Z",
     "iopub.status.idle": "2023-08-15T00:50:06.199737Z",
     "shell.execute_reply": "2023-08-15T00:50:06.199097Z"
    },
    "papermill": {
     "duration": 0.010356,
     "end_time": "2023-08-15T00:50:06.201382",
     "exception": false,
     "start_time": "2023-08-15T00:50:06.191026",
     "status": "completed"
    },
    "tags": []
   },
   "outputs": [
    {
     "name": "stdout",
     "output_type": "stream",
     "text": [
      "(4238, 5)\n",
      "(4238,)\n"
     ]
    }
   ],
   "source": [
    "print(X.shape)\n",
    "print(Y.shape)"
   ]
  },
  {
   "cell_type": "code",
   "execution_count": 4,
   "id": "c347a311",
   "metadata": {
    "execution": {
     "iopub.execute_input": "2023-08-15T00:50:06.210397Z",
     "iopub.status.busy": "2023-08-15T00:50:06.209240Z",
     "iopub.status.idle": "2023-08-15T00:50:06.217802Z",
     "shell.execute_reply": "2023-08-15T00:50:06.216506Z"
    },
    "papermill": {
     "duration": 0.014821,
     "end_time": "2023-08-15T00:50:06.219649",
     "exception": false,
     "start_time": "2023-08-15T00:50:06.204828",
     "status": "completed"
    },
    "tags": []
   },
   "outputs": [
    {
     "name": "stdout",
     "output_type": "stream",
     "text": [
      "male age has_high_BP systolic_BP diastolic_BP\n",
      "[[  1.   39.    0.  106.   70. ]\n",
      " [  0.   46.    0.  121.   81. ]\n",
      " [  1.   48.    0.  127.5  80. ]\n",
      " ...\n",
      " [  0.   48.    0.  131.   72. ]\n",
      " [  0.   44.    0.  126.5  87. ]\n",
      " [  0.   52.    0.  133.5  83. ]]\n"
     ]
    }
   ],
   "source": [
    "print(\"male age has_high_BP systolic_BP diastolic_BP\")\n",
    "print(X)"
   ]
  },
  {
   "cell_type": "code",
   "execution_count": 5,
   "id": "4d4706c6",
   "metadata": {
    "execution": {
     "iopub.execute_input": "2023-08-15T00:50:06.228034Z",
     "iopub.status.busy": "2023-08-15T00:50:06.227424Z",
     "iopub.status.idle": "2023-08-15T00:50:06.232614Z",
     "shell.execute_reply": "2023-08-15T00:50:06.231490Z"
    },
    "papermill": {
     "duration": 0.011271,
     "end_time": "2023-08-15T00:50:06.234286",
     "exception": false,
     "start_time": "2023-08-15T00:50:06.223015",
     "status": "completed"
    },
    "tags": []
   },
   "outputs": [
    {
     "name": "stdout",
     "output_type": "stream",
     "text": [
      "[0 0 0 ... 0 0 0]\n"
     ]
    }
   ],
   "source": [
    "print(Y)"
   ]
  },
  {
   "cell_type": "code",
   "execution_count": 6,
   "id": "1ec8c541",
   "metadata": {
    "execution": {
     "iopub.execute_input": "2023-08-15T00:50:06.242842Z",
     "iopub.status.busy": "2023-08-15T00:50:06.242216Z",
     "iopub.status.idle": "2023-08-15T00:50:06.247386Z",
     "shell.execute_reply": "2023-08-15T00:50:06.246314Z"
    },
    "papermill": {
     "duration": 0.011842,
     "end_time": "2023-08-15T00:50:06.249596",
     "exception": false,
     "start_time": "2023-08-15T00:50:06.237754",
     "status": "completed"
    },
    "tags": []
   },
   "outputs": [],
   "source": [
    "def sigmoid(x):\n",
    "    return 1 / ( 1 + np.exp(-x) )\n",
    "\n",
    "def sigmoid_prime(x):\n",
    "    return sigmoid(x) * (1 - sigmoid(x))"
   ]
  },
  {
   "cell_type": "code",
   "execution_count": 7,
   "id": "e49313e7",
   "metadata": {
    "execution": {
     "iopub.execute_input": "2023-08-15T00:50:06.257828Z",
     "iopub.status.busy": "2023-08-15T00:50:06.257280Z",
     "iopub.status.idle": "2023-08-15T00:50:06.264124Z",
     "shell.execute_reply": "2023-08-15T00:50:06.263118Z"
    },
    "papermill": {
     "duration": 0.01345,
     "end_time": "2023-08-15T00:50:06.266515",
     "exception": false,
     "start_time": "2023-08-15T00:50:06.253065",
     "status": "completed"
    },
    "tags": []
   },
   "outputs": [
    {
     "name": "stdout",
     "output_type": "stream",
     "text": [
      "The number of features is 5.\n",
      "[ 0.34169107 -1.03048905  0.65278445  2.23542684 -2.18384794]\n",
      "1.0\n"
     ]
    }
   ],
   "source": [
    "def feedforward(X,theta):\n",
    "    z = np.dot(X,theta) #Weighted Input\n",
    "    a = sigmoid(z) #Activation\n",
    "    pred = np.round(a) #Rounds to 0 or 1\n",
    "    return pred\n",
    "\n",
    "X_temp = X[0] #Select 1st row\n",
    "num_features = X_temp.shape[-1] #Num columns = num features\n",
    "print(f\"The number of features is {num_features}.\")\n",
    "\n",
    "theta = np.random.randn(num_features)\n",
    "print(theta)\n",
    "\n",
    "pred = feedforward(X_temp,theta)\n",
    "print(pred)"
   ]
  },
  {
   "cell_type": "code",
   "execution_count": 8,
   "id": "9faac27d",
   "metadata": {
    "execution": {
     "iopub.execute_input": "2023-08-15T00:50:06.275020Z",
     "iopub.status.busy": "2023-08-15T00:50:06.274669Z",
     "iopub.status.idle": "2023-08-15T00:50:06.283443Z",
     "shell.execute_reply": "2023-08-15T00:50:06.282725Z"
    },
    "papermill": {
     "duration": 0.01527,
     "end_time": "2023-08-15T00:50:06.285301",
     "exception": false,
     "start_time": "2023-08-15T00:50:06.270031",
     "status": "completed"
    },
    "tags": []
   },
   "outputs": [
    {
     "name": "stdout",
     "output_type": "stream",
     "text": [
      "0.8468617272298253\n"
     ]
    }
   ],
   "source": [
    "def cost_function(X,Y,theta):\n",
    "    pred = feedforward(X,theta)\n",
    "    m = Y.shape[0]\n",
    "    \n",
    "    diff_squared = (pred - Y) ** 2\n",
    "    avg_per_example = np.sum(diff_squared) / m\n",
    "    return avg_per_example\n",
    "\n",
    "cost = cost_function(X,Y,theta)\n",
    "print(cost)\n"
   ]
  },
  {
   "cell_type": "code",
   "execution_count": 9,
   "id": "01d40835",
   "metadata": {
    "execution": {
     "iopub.execute_input": "2023-08-15T00:50:06.297059Z",
     "iopub.status.busy": "2023-08-15T00:50:06.296016Z",
     "iopub.status.idle": "2023-08-15T00:50:06.305295Z",
     "shell.execute_reply": "2023-08-15T00:50:06.304610Z"
    },
    "papermill": {
     "duration": 0.017335,
     "end_time": "2023-08-15T00:50:06.307068",
     "exception": false,
     "start_time": "2023-08-15T00:50:06.289733",
     "status": "completed"
    },
    "tags": []
   },
   "outputs": [
    {
     "data": {
      "text/plain": [
       "array([7.03649301e+02, 1.11642107e-11, 5.25153201e+02, 0.00000000e+00,\n",
       "       0.00000000e+00])"
      ]
     },
     "execution_count": 9,
     "metadata": {},
     "output_type": "execute_result"
    }
   ],
   "source": [
    "def gradient_vectorized(pred,X,Y):\n",
    "    m = Y.shape[0]\n",
    "    \n",
    "    cost_by_pred = 2 * (pred - Y) # This returns an m x 1 vector\n",
    "    sigmoid_out_by_sigmoid_in = sigmoid_prime(X) # This returns an m x n vector\n",
    "    X_sum = np.sum(X, axis = 0) #X was m x n. Now it's summed into 1 x n.\n",
    "    gradient = np.dot(cost_by_pred, sigmoid_out_by_sigmoid_in) * X_sum\n",
    "    return gradient / m\n",
    "\n",
    "gradient_vectorized(pred,X,Y)"
   ]
  },
  {
   "cell_type": "code",
   "execution_count": 10,
   "id": "65384e18",
   "metadata": {
    "execution": {
     "iopub.execute_input": "2023-08-15T00:50:06.317095Z",
     "iopub.status.busy": "2023-08-15T00:50:06.316773Z",
     "iopub.status.idle": "2023-08-15T00:50:06.405803Z",
     "shell.execute_reply": "2023-08-15T00:50:06.404850Z"
    },
    "papermill": {
     "duration": 0.096125,
     "end_time": "2023-08-15T00:50:06.407646",
     "exception": false,
     "start_time": "2023-08-15T00:50:06.311521",
     "status": "completed"
    },
    "tags": []
   },
   "outputs": [
    {
     "name": "stdout",
     "output_type": "stream",
     "text": [
      "....................................................................................................[0.1519584709768759, 0.1519584709768759, 0.1519584709768759, 0.1519584709768759, 0.1519584709768759, 0.1519584709768759, 0.1519584709768759, 0.1519584709768759, 0.1519584709768759, 0.1519584709768759, 0.1519584709768759, 0.1519584709768759, 0.1519584709768759, 0.15172251061821615, 0.15266635205285511, 0.15478999528079282, 0.16399244926852288, 0.18216139688532326, 0.19867862199150543, 0.20339782916470034, 0.20717319490325625, 0.21118452100047191, 0.2100047192071732, 0.21094856064181217, 0.2121283624351109, 0.21189240207645116, 0.21401604530438886, 0.2142520056630486, 0.2147239263803681, 0.21661160924964606, 0.2173194903256253, 0.22085889570552147, 0.22227465785747993, 0.22510618216139688, 0.2272298253893346, 0.22958942897593204, 0.23171307220386975, 0.2345445965077867, 0.23596035865974516, 0.2383199622463426, 0.23855592260500236, 0.2392638036809816, 0.23949976403964135, 0.2413874469089193, 0.2418593676262388, 0.24209532798489855, 0.24280320906087777, 0.24303916941953752, 0.24374705049551676, 0.24374705049551676, 0.24421897121283626, 0.24469089193015572, 0.24516281264747522, 0.24492685228881547, 0.24492685228881547, 0.24492685228881547, 0.24516281264747522, 0.24516281264747522, 0.24516281264747522, 0.24516281264747522, 0.24563473336479472, 0.24563473336479472, 0.24587069372345446, 0.2461066540821142, 0.2461066540821142, 0.24634261444077396, 0.24634261444077396, 0.2465785747994337, 0.2465785747994337, 0.2465785747994337, 0.2465785747994337, 0.2465785747994337, 0.24634261444077396, 0.24634261444077396, 0.2465785747994337, 0.2465785747994337, 0.2465785747994337, 0.24681453515809343, 0.24728645587541292, 0.24728645587541292, 0.24728645587541292, 0.24728645587541292, 0.24728645587541292, 0.24681453515809343, 0.24705049551675318, 0.24728645587541292, 0.24728645587541292, 0.24681453515809343, 0.24705049551675318, 0.24728645587541292, 0.24681453515809343, 0.24681453515809343, 0.24681453515809343, 0.24681453515809343, 0.24705049551675318, 0.24705049551675318, 0.24705049551675318, 0.24705049551675318, 0.24705049551675318, 0.24681453515809343]\n"
     ]
    }
   ],
   "source": [
    "def gradient_descent(X,Y,theta,learning_rate,num_iters):\n",
    "    cost_history = []\n",
    "    for i in range(num_iters):\n",
    "        print(\".\", end='')\n",
    "        pred = feedforward(X,theta)\n",
    "        cost = cost_function(X,Y,theta) #Purpose = to monitor cost\n",
    "        cost_history.append(cost)\n",
    "        \n",
    "        gradient = gradient_vectorized(pred,X,Y) #This is the gradient descent part\n",
    "        theta = theta - learning_rate * gradient\n",
    "        \n",
    "    return theta, cost_history\n",
    "        \n",
    "learning_rate = 0.1 \n",
    "num_iters = 100\n",
    "theta = np.random.randn(5)\n",
    "theta, cost_history = gradient_descent(X,Y,theta,learning_rate,num_iters)\n",
    "print(cost_history)"
   ]
  },
  {
   "cell_type": "code",
   "execution_count": null,
   "id": "46dc8553",
   "metadata": {
    "papermill": {
     "duration": 0.004384,
     "end_time": "2023-08-15T00:50:06.416825",
     "exception": false,
     "start_time": "2023-08-15T00:50:06.412441",
     "status": "completed"
    },
    "tags": []
   },
   "outputs": [],
   "source": []
  },
  {
   "cell_type": "code",
   "execution_count": 11,
   "id": "0b07682a",
   "metadata": {
    "execution": {
     "iopub.execute_input": "2023-08-15T00:50:06.428320Z",
     "iopub.status.busy": "2023-08-15T00:50:06.427179Z",
     "iopub.status.idle": "2023-08-15T00:50:06.635119Z",
     "shell.execute_reply": "2023-08-15T00:50:06.633747Z"
    },
    "papermill": {
     "duration": 0.215634,
     "end_time": "2023-08-15T00:50:06.637178",
     "exception": false,
     "start_time": "2023-08-15T00:50:06.421544",
     "status": "completed"
    },
    "tags": []
   },
   "outputs": [
    {
     "data": {
      "text/plain": [
       "[<matplotlib.lines.Line2D at 0x7ba6742a1150>]"
      ]
     },
     "execution_count": 11,
     "metadata": {},
     "output_type": "execute_result"
    },
    {
     "data": {
      "image/png": "[encoded data removed]",
      "text/plain": [
       "<Figure size 640x480 with 1 Axes>"
      ]
     },
     "metadata": {},
     "output_type": "display_data"
    }
   ],
   "source": [
    "import matplotlib\n",
    "\n",
    "x = range(num_iters)\n",
    "y = cost_history\n",
    "matplotlib.pyplot.plot(x,y)"
   ]
  },
  {
   "cell_type": "code",
   "execution_count": null,
   "id": "56cbce51",
   "metadata": {
    "papermill": {
     "duration": 0.004908,
     "end_time": "2023-08-15T00:50:06.646288",
     "exception": false,
     "start_time": "2023-08-15T00:50:06.641380",
     "status": "completed"
    },
    "tags": []
   },
   "outputs": [],
   "source": []
  }
 ],
 "metadata": {
  "kernelspec": {
   "display_name": "Python 3",
   "language": "python",
   "name": "python3"
  },
  "language_info": {
   "codemirror_mode": {
    "name": "ipython",
    "version": 3
   },
   "file_extension": ".py",
   "mimetype": "text/x-python",
   "name": "python",
   "nbconvert_exporter": "python",
   "pygments_lexer": "ipython3",
   "version": "3.10.12"
  },
  "papermill": {
   "default_parameters": {},
   "duration": 10.649233,
   "end_time": "2023-08-15T00:50:07.372180",
   "environment_variables": {},
   "exception": null,
   "input_path": "__notebook__.ipynb",
   "output_path": "__notebook__.ipynb",
   "parameters": {},
   "start_time": "2023-08-15T00:49:56.722947",
   "version": "2.4.0"
  }
 },
 "nbformat": 4,
 "nbformat_minor": 5
}
