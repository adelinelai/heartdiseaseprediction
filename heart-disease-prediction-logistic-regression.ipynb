{
 "cells": [
  {
   "cell_type": "markdown",
   "id": "b4262ef1",
   "metadata": {
    "papermill": {
     "duration": 0.005657,
     "end_time": "2023-08-15T00:51:46.935469",
     "exception": false,
     "start_time": "2023-08-15T00:51:46.929812",
     "status": "completed"
    },
    "tags": []
   },
   "source": [
    "A logistic regression algorithm used to predict whether an individual will get heart disease in the future. This was made using this AI course: https://www.youtube.com/watch?v=EYQnyfLeI8g&list=PLqg…"
   ]
  },
  {
   "cell_type": "code",
   "execution_count": 1,
   "id": "aab46613",
   "metadata": {
    "execution": {
     "iopub.execute_input": "2023-08-15T00:51:46.948492Z",
     "iopub.status.busy": "2023-08-15T00:51:46.948049Z",
     "iopub.status.idle": "2023-08-15T00:51:46.959888Z",
     "shell.execute_reply": "2023-08-15T00:51:46.958509Z"
    },
    "papermill": {
     "duration": 0.021101,
     "end_time": "2023-08-15T00:51:46.962303",
     "exception": false,
     "start_time": "2023-08-15T00:51:46.941202",
     "status": "completed"
    },
    "tags": []
   },
   "outputs": [],
   "source": [
    "import numpy as np"
   ]
  },
  {
   "cell_type": "code",
   "execution_count": 2,
   "id": "9add058f",
   "metadata": {
    "execution": {
     "iopub.execute_input": "2023-08-15T00:51:46.975326Z",
     "iopub.status.busy": "2023-08-15T00:51:46.974896Z",
     "iopub.status.idle": "2023-08-15T00:51:47.013902Z",
     "shell.execute_reply": "2023-08-15T00:51:47.012654Z"
    },
    "papermill": {
     "duration": 0.049033,
     "end_time": "2023-08-15T00:51:47.016525",
     "exception": false,
     "start_time": "2023-08-15T00:51:46.967492",
     "status": "completed"
    },
    "tags": []
   },
   "outputs": [],
   "source": [
    "X = np.load(\"/kaggle/input/heart-disease-prediction-simplified/X.npy\")\n",
    "Y = np.load(\"/kaggle/input/heart-disease-prediction-simplified/y.npy\")"
   ]
  },
  {
   "cell_type": "code",
   "execution_count": 3,
   "id": "d1125f6d",
   "metadata": {
    "execution": {
     "iopub.execute_input": "2023-08-15T00:51:47.029057Z",
     "iopub.status.busy": "2023-08-15T00:51:47.028301Z",
     "iopub.status.idle": "2023-08-15T00:51:47.034553Z",
     "shell.execute_reply": "2023-08-15T00:51:47.033232Z"
    },
    "papermill": {
     "duration": 0.015576,
     "end_time": "2023-08-15T00:51:47.037337",
     "exception": false,
     "start_time": "2023-08-15T00:51:47.021761",
     "status": "completed"
    },
    "tags": []
   },
   "outputs": [
    {
     "name": "stdout",
     "output_type": "stream",
     "text": [
      "(4238, 5)\n",
      "(4238,)\n"
     ]
    }
   ],
   "source": [
    "print(X.shape)\n",
    "print(Y.shape)"
   ]
  },
  {
   "cell_type": "code",
   "execution_count": 4,
   "id": "8fcc9272",
   "metadata": {
    "execution": {
     "iopub.execute_input": "2023-08-15T00:51:47.051008Z",
     "iopub.status.busy": "2023-08-15T00:51:47.050245Z",
     "iopub.status.idle": "2023-08-15T00:51:47.058644Z",
     "shell.execute_reply": "2023-08-15T00:51:47.057362Z"
    },
    "papermill": {
     "duration": 0.017362,
     "end_time": "2023-08-15T00:51:47.060798",
     "exception": false,
     "start_time": "2023-08-15T00:51:47.043436",
     "status": "completed"
    },
    "tags": []
   },
   "outputs": [
    {
     "name": "stdout",
     "output_type": "stream",
     "text": [
      "male age has_high_BP systolic_BP diastolic_BP\n",
      "[[  1.   39.    0.  106.   70. ]\n",
      " [  0.   46.    0.  121.   81. ]\n",
      " [  1.   48.    0.  127.5  80. ]\n",
      " ...\n",
      " [  0.   48.    0.  131.   72. ]\n",
      " [  0.   44.    0.  126.5  87. ]\n",
      " [  0.   52.    0.  133.5  83. ]]\n"
     ]
    }
   ],
   "source": [
    "print(\"male age has_high_BP systolic_BP diastolic_BP\")\n",
    "print(X)"
   ]
  },
  {
   "cell_type": "code",
   "execution_count": 5,
   "id": "b6bc342b",
   "metadata": {
    "execution": {
     "iopub.execute_input": "2023-08-15T00:51:47.073760Z",
     "iopub.status.busy": "2023-08-15T00:51:47.072997Z",
     "iopub.status.idle": "2023-08-15T00:51:47.079661Z",
     "shell.execute_reply": "2023-08-15T00:51:47.078130Z"
    },
    "papermill": {
     "duration": 0.015987,
     "end_time": "2023-08-15T00:51:47.082274",
     "exception": false,
     "start_time": "2023-08-15T00:51:47.066287",
     "status": "completed"
    },
    "tags": []
   },
   "outputs": [
    {
     "name": "stdout",
     "output_type": "stream",
     "text": [
      "[0 0 0 ... 0 0 0]\n"
     ]
    }
   ],
   "source": [
    "print(Y)"
   ]
  },
  {
   "cell_type": "code",
   "execution_count": 6,
   "id": "3ee05f11",
   "metadata": {
    "execution": {
     "iopub.execute_input": "2023-08-15T00:51:47.095598Z",
     "iopub.status.busy": "2023-08-15T00:51:47.094817Z",
     "iopub.status.idle": "2023-08-15T00:51:47.100094Z",
     "shell.execute_reply": "2023-08-15T00:51:47.099219Z"
    },
    "papermill": {
     "duration": 0.014524,
     "end_time": "2023-08-15T00:51:47.102364",
     "exception": false,
     "start_time": "2023-08-15T00:51:47.087840",
     "status": "completed"
    },
    "tags": []
   },
   "outputs": [],
   "source": [
    "def sigmoid(x):\n",
    "    return 1 / ( 1 + np.exp(-x) )\n",
    "\n",
    "def sigmoid_prime(x):\n",
    "    return sigmoid(x) * (1 - sigmoid(x))"
   ]
  },
  {
   "cell_type": "code",
   "execution_count": 7,
   "id": "f33be61a",
   "metadata": {
    "execution": {
     "iopub.execute_input": "2023-08-15T00:51:47.115762Z",
     "iopub.status.busy": "2023-08-15T00:51:47.114886Z",
     "iopub.status.idle": "2023-08-15T00:51:47.124100Z",
     "shell.execute_reply": "2023-08-15T00:51:47.123010Z"
    },
    "papermill": {
     "duration": 0.019041,
     "end_time": "2023-08-15T00:51:47.126949",
     "exception": false,
     "start_time": "2023-08-15T00:51:47.107908",
     "status": "completed"
    },
    "tags": []
   },
   "outputs": [
    {
     "name": "stdout",
     "output_type": "stream",
     "text": [
      "The number of features is 5.\n",
      "[ 0.20632436  1.09496208 -1.02938907 -1.40051255 -0.48636551]\n",
      "0.0\n"
     ]
    }
   ],
   "source": [
    "def feedforward(X,theta):\n",
    "    z = np.dot(X,theta) #Weighted Input\n",
    "    a = sigmoid(z) #Activation\n",
    "    pred = np.round(a) #Rounds to 0 or 1\n",
    "    return pred\n",
    "\n",
    "X_temp = X[0] #Select 1st row\n",
    "num_features = X_temp.shape[-1] #Num columns = num features\n",
    "print(f\"The number of features is {num_features}.\")\n",
    "\n",
    "theta = np.random.randn(num_features)\n",
    "print(theta)\n",
    "\n",
    "pred = feedforward(X_temp,theta)\n",
    "print(pred)"
   ]
  },
  {
   "cell_type": "code",
   "execution_count": 8,
   "id": "09ceab70",
   "metadata": {
    "execution": {
     "iopub.execute_input": "2023-08-15T00:51:47.140180Z",
     "iopub.status.busy": "2023-08-15T00:51:47.139504Z",
     "iopub.status.idle": "2023-08-15T00:51:47.153590Z",
     "shell.execute_reply": "2023-08-15T00:51:47.151922Z"
    },
    "papermill": {
     "duration": 0.026472,
     "end_time": "2023-08-15T00:51:47.158962",
     "exception": false,
     "start_time": "2023-08-15T00:51:47.132490",
     "status": "completed"
    },
    "tags": []
   },
   "outputs": [
    {
     "name": "stdout",
     "output_type": "stream",
     "text": [
      "0.1519584709768759\n"
     ]
    }
   ],
   "source": [
    "def cost_function(X,Y,theta):\n",
    "    pred = feedforward(X,theta)\n",
    "    m = Y.shape[0]\n",
    "    \n",
    "    diff_squared = (pred - Y) ** 2\n",
    "    avg_per_example = np.sum(diff_squared) / m\n",
    "    return avg_per_example\n",
    "\n",
    "cost = cost_function(X,Y,theta)\n",
    "print(cost)\n"
   ]
  },
  {
   "cell_type": "code",
   "execution_count": 9,
   "id": "a5006f34",
   "metadata": {
    "execution": {
     "iopub.execute_input": "2023-08-15T00:51:47.186465Z",
     "iopub.status.busy": "2023-08-15T00:51:47.185762Z",
     "iopub.status.idle": "2023-08-15T00:51:47.213909Z",
     "shell.execute_reply": "2023-08-15T00:51:47.212344Z"
    },
    "papermill": {
     "duration": 0.047099,
     "end_time": "2023-08-15T00:51:47.218596",
     "exception": false,
     "start_time": "2023-08-15T00:51:47.171497",
     "status": "completed"
    },
    "tags": []
   },
   "outputs": [
    {
     "data": {
      "text/plain": [
       "array([-1.22486681e+02, -1.98181254e-13, -8.92128003e+01,  0.00000000e+00,\n",
       "        0.00000000e+00])"
      ]
     },
     "execution_count": 9,
     "metadata": {},
     "output_type": "execute_result"
    }
   ],
   "source": [
    "def gradient_vectorized(pred,X,Y):\n",
    "    m = Y.shape[0]\n",
    "    \n",
    "    cost_by_pred = 2 * (pred - Y) # This returns an m x 1 vector\n",
    "    sigmoid_out_by_sigmoid_in = sigmoid_prime(X) # This returns an m x n vector\n",
    "    X_sum = np.sum(X, axis = 0) #X was m x n. Now it's summed into 1 x n.\n",
    "    gradient = np.dot(cost_by_pred, sigmoid_out_by_sigmoid_in) * X_sum\n",
    "    return gradient / m\n",
    "\n",
    "gradient_vectorized(pred,X,Y)"
   ]
  },
  {
   "cell_type": "code",
   "execution_count": 10,
   "id": "6a953a3a",
   "metadata": {
    "execution": {
     "iopub.execute_input": "2023-08-15T00:51:47.245544Z",
     "iopub.status.busy": "2023-08-15T00:51:47.244874Z",
     "iopub.status.idle": "2023-08-15T00:51:47.519177Z",
     "shell.execute_reply": "2023-08-15T00:51:47.517503Z"
    },
    "papermill": {
     "duration": 0.293624,
     "end_time": "2023-08-15T00:51:47.524369",
     "exception": false,
     "start_time": "2023-08-15T00:51:47.230745",
     "status": "completed"
    },
    "tags": []
   },
   "outputs": [
    {
     "name": "stdout",
     "output_type": "stream",
     "text": [
      "....................................................................................................[0.4535158093440302, 0.31429919773478054, 0.31429919773478054, 0.31429919773478054, 0.31429919773478054, 0.31429919773478054, 0.31429919773478054, 0.31429919773478054, 0.31429919773478054, 0.31429919773478054, 0.31429919773478054, 0.31429919773478054, 0.31429919773478054, 0.31429919773478054, 0.31429919773478054, 0.31429919773478054, 0.31429919773478054, 0.31429919773478054, 0.31429919773478054, 0.31429919773478054, 0.31429919773478054, 0.31429919773478054, 0.31429919773478054, 0.31429919773478054, 0.31429919773478054, 0.31429919773478054, 0.31429919773478054, 0.31429919773478054, 0.31429919773478054, 0.31429919773478054, 0.31429919773478054, 0.31429919773478054, 0.31429919773478054, 0.31429919773478054, 0.31429919773478054, 0.31429919773478054, 0.31429919773478054, 0.31429919773478054, 0.31429919773478054, 0.31429919773478054, 0.31429919773478054, 0.31429919773478054, 0.31429919773478054, 0.31429919773478054, 0.31429919773478054, 0.31429919773478054, 0.31429919773478054, 0.31429919773478054, 0.31429919773478054, 0.31429919773478054, 0.31429919773478054, 0.31429919773478054, 0.31429919773478054, 0.31429919773478054, 0.31429919773478054, 0.31429919773478054, 0.31429919773478054, 0.31429919773478054, 0.31429919773478054, 0.31429919773478054, 0.31429919773478054, 0.31429919773478054, 0.31429919773478054, 0.31429919773478054, 0.31429919773478054, 0.31429919773478054, 0.31429919773478054, 0.31429919773478054, 0.31429919773478054, 0.31429919773478054, 0.31429919773478054, 0.31429919773478054, 0.31429919773478054, 0.31429919773478054, 0.31429919773478054, 0.31429919773478054, 0.31429919773478054, 0.31429919773478054, 0.31429919773478054, 0.31429919773478054, 0.31429919773478054, 0.31429919773478054, 0.31429919773478054, 0.31429919773478054, 0.31429919773478054, 0.31429919773478054, 0.31429919773478054, 0.31429919773478054, 0.31429919773478054, 0.31429919773478054, 0.31429919773478054, 0.31429919773478054, 0.31429919773478054, 0.31429919773478054, 0.31429919773478054, 0.31429919773478054, 0.31429919773478054, 0.31429919773478054, 0.31429919773478054, 0.31429919773478054]\n"
     ]
    },
    {
     "name": "stderr",
     "output_type": "stream",
     "text": [
      "/tmp/ipykernel_20/3852867762.py:2: RuntimeWarning: overflow encountered in exp\n",
      "  return 1 / ( 1 + np.exp(-x) )\n"
     ]
    }
   ],
   "source": [
    "def gradient_descent(X,Y,theta,learning_rate,num_iters):\n",
    "    cost_history = []\n",
    "    for i in range(num_iters):\n",
    "        print(\".\", end='')\n",
    "        pred = feedforward(X,theta)\n",
    "        cost = cost_function(X,Y,theta) #Purpose = to monitor cost\n",
    "        cost_history.append(cost)\n",
    "        \n",
    "        gradient = gradient_vectorized(pred,X,Y) #This is the gradient descent part\n",
    "        theta = theta - learning_rate * gradient\n",
    "        \n",
    "    return theta, cost_history\n",
    "        \n",
    "learning_rate = 0.1 \n",
    "num_iters = 100\n",
    "theta = np.random.randn(5)\n",
    "theta, cost_history = gradient_descent(X,Y,theta,learning_rate,num_iters)\n",
    "print(cost_history)"
   ]
  },
  {
   "cell_type": "code",
   "execution_count": null,
   "id": "65269cf7",
   "metadata": {
    "papermill": {
     "duration": 0.012857,
     "end_time": "2023-08-15T00:51:47.552177",
     "exception": false,
     "start_time": "2023-08-15T00:51:47.539320",
     "status": "completed"
    },
    "tags": []
   },
   "outputs": [],
   "source": []
  },
  {
   "cell_type": "code",
   "execution_count": 11,
   "id": "73e7a5aa",
   "metadata": {
    "execution": {
     "iopub.execute_input": "2023-08-15T00:51:47.584323Z",
     "iopub.status.busy": "2023-08-15T00:51:47.583662Z",
     "iopub.status.idle": "2023-08-15T00:51:47.931518Z",
     "shell.execute_reply": "2023-08-15T00:51:47.930211Z"
    },
    "papermill": {
     "duration": 0.366578,
     "end_time": "2023-08-15T00:51:47.934746",
     "exception": false,
     "start_time": "2023-08-15T00:51:47.568168",
     "status": "completed"
    },
    "tags": []
   },
   "outputs": [
    {
     "data": {
      "text/plain": [
       "[<matplotlib.lines.Line2D at 0x799b3363dba0>]"
      ]
     },
     "execution_count": 11,
     "metadata": {},
     "output_type": "execute_result"
    },
    {
     "data": {
      "image/png": "[encoded data removed]",
      "text/plain": [
       "<Figure size 640x480 with 1 Axes>"
      ]
     },
     "metadata": {},
     "output_type": "display_data"
    }
   ],
   "source": [
    "import matplotlib\n",
    "\n",
    "x = range(num_iters)\n",
    "y = cost_history\n",
    "matplotlib.pyplot.plot(x,y)"
   ]
  },
  {
   "cell_type": "code",
   "execution_count": null,
   "id": "44ec36f9",
   "metadata": {
    "papermill": {
     "duration": 0.006976,
     "end_time": "2023-08-15T00:51:47.949207",
     "exception": false,
     "start_time": "2023-08-15T00:51:47.942231",
     "status": "completed"
    },
    "tags": []
   },
   "outputs": [],
   "source": []
  }
 ],
 "metadata": {
  "kernelspec": {
   "display_name": "Python 3",
   "language": "python",
   "name": "python3"
  },
  "language_info": {
   "codemirror_mode": {
    "name": "ipython",
    "version": 3
   },
   "file_extension": ".py",
   "mimetype": "text/x-python",
   "name": "python",
   "nbconvert_exporter": "python",
   "pygments_lexer": "ipython3",
   "version": "3.10.12"
  },
  "papermill": {
   "default_parameters": {},
   "duration": 13.745427,
   "end_time": "2023-08-15T00:51:48.878824",
   "environment_variables": {},
   "exception": null,
   "input_path": "__notebook__.ipynb",
   "output_path": "__notebook__.ipynb",
   "parameters": {},
   "start_time": "2023-08-15T00:51:35.133397",
   "version": "2.4.0"
  }
 },
 "nbformat": 4,
 "nbformat_minor": 5
}
